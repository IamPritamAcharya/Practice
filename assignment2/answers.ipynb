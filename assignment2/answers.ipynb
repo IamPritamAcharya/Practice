{
 "cells": [
  {
   "cell_type": "markdown",
   "metadata": {},
   "source": [
    "# **Java Assignment**"
   ]
  },
  {
   "cell_type": "markdown",
   "metadata": {},
   "source": [
    "- **Name:** Pritam Acharya  \n",
    "- **Roll Number:** 427041  \n",
    "- **Registration Number:** 2301105257  \n",
    "- **Semester:** 4th  \n",
    "- **Branch:** Computer Science Engineering and Applications"
   ]
  },
  {
   "cell_type": "markdown",
   "metadata": {},
   "source": [
    "### Question 1 : Write a java program to print your biodata?"
   ]
  },
  {
   "cell_type": "code",
   "execution_count": 1,
   "metadata": {},
   "outputs": [
    {
     "name": "stdout",
     "output_type": "stream",
     "text": [
      "Writing question1.java\n"
     ]
    }
   ],
   "source": [
    "%%writefile question1.java\n",
    "\n",
    "public class question1 {\n",
    "    public static void main(String[] args) {\n",
    "        System.out.println(\"Name: \" + args[0]);\n",
    "        System.out.println(\"Age: \" + args[1]);\n",
    "        System.out.println(\"Date of Birth: \" + args[2]);\n",
    "        System.out.println(\"Address: \" + args[3]);\n",
    "        System.out.println(\"College: \" + args[4]);\n",
    "        System.out.println(\"Course: \" + args[5]);\n",
    "        System.out.println(\"Roll no: \" + args[6]);\n",
    "        System.out.println(\"Regd no: \" + args[7]);\n",
    "        System.out.println(\"Hobbies: \" + args[8]);\n",
    "        System.out.println(\"Skills: \" + args[9]);\n",
    "        System.out.println(\"Contact: \" + args[10]);\n",
    "    }\n",
    "}\n",
    "\n"
   ]
  },
  {
   "cell_type": "code",
   "execution_count": 2,
   "metadata": {},
   "outputs": [
    {
     "name": "stdout",
     "output_type": "stream",
     "text": [
      "Name: Pritam Acharya\n",
      "Age: 20\n",
      "Date of Birth: 08-Feb-2005\n",
      "Address: Nayagarh, Odisha\n",
      "College: IGIT Sarang\n",
      "Course: B.Tech CSE\n",
      "Roll no: 41\n",
      "Regd no: 2301105257\n",
      "Hobbies: Coding, Valorant, Music\n",
      "Skills: Java\n",
      "Contact: 6370486583\n"
     ]
    }
   ],
   "source": [
    "!javac question1.java\n",
    "!java question1 \"Pritam Acharya\" \"20\" \"08-Feb-2005\" \"Nayagarh, Odisha\" \"IGIT Sarang\" \"B.Tech CSE\" \"41\" \"2301105257\" \"Coding, Valorant, Music\" \"Java\" \"6370486583\""
   ]
  },
  {
   "cell_type": "markdown",
   "metadata": {},
   "source": [
    "### Question 2 : Write a java program to find simple interest?"
   ]
  },
  {
   "cell_type": "code",
   "execution_count": 3,
   "metadata": {},
   "outputs": [
    {
     "name": "stdout",
     "output_type": "stream",
     "text": [
      "Writing question2.java\n"
     ]
    }
   ],
   "source": [
    "%%writefile question2.java\n",
    "\n",
    "public class question2 {\n",
    "    public static void main(String[] args) {\n",
    "        double principal = Double.parseDouble(args[0]);\n",
    "        double rate = Double.parseDouble(args[1]);\n",
    "        double time = Double.parseDouble(args[2]);\n",
    "\n",
    "        double si = (principal * rate * time) / 100;\n",
    "\n",
    "        System.out.println(\"For principal: \" + principal + \", rate: \" + rate + \", time: \" + time + \"\\nSimple Interest = \" + si);\n",
    "    }\n",
    "}\n"
   ]
  },
  {
   "cell_type": "code",
   "execution_count": 4,
   "metadata": {},
   "outputs": [
    {
     "name": "stdout",
     "output_type": "stream",
     "text": [
      "For principal: 1057.0, rate: 7.5, time: 11.0\n",
      "Simple Interest = 872.025\n"
     ]
    }
   ],
   "source": [
    "!javac question2.java\n",
    "!java question2 1057.0 7.5 11.0"
   ]
  },
  {
   "cell_type": "markdown",
   "metadata": {},
   "source": [
    "### Question 3 : Write a java program for temperature conversion?"
   ]
  },
  {
   "cell_type": "code",
   "execution_count": 5,
   "metadata": {},
   "outputs": [
    {
     "name": "stdout",
     "output_type": "stream",
     "text": [
      "Writing question3.java\n"
     ]
    }
   ],
   "source": [
    "%%writefile question3.java\n",
    "\n",
    "public class question3{\n",
    "    public static void main(String[] args) {\n",
    "\n",
    "        // celsius ---> fahrenheit\n",
    "\n",
    "        double celsius1 = Double.parseDouble(args[0]);\n",
    "        double fahrenheit1 = (celsius1 * 1.8) + 32;\n",
    "\n",
    "        System.out.println(celsius1 + \" *c = \" + fahrenheit1 + \" f\");\n",
    "\n",
    "        // fahrenheit ---> celsius\n",
    "\n",
    "        double fahrenheit2 = Double.parseDouble(args[1]);\n",
    "        double celsius2 = (fahrenheit2 - 32) / 1.8;\n",
    "\n",
    "        System.out.println( + fahrenheit2 + \" f = \" + celsius2 + \" *c\");\n",
    "\n",
    "    }\n",
    "}"
   ]
  },
  {
   "cell_type": "code",
   "execution_count": 6,
   "metadata": {},
   "outputs": [
    {
     "name": "stdout",
     "output_type": "stream",
     "text": [
      "38.9 *c = 102.02 f\n",
      "102.02 f = 38.9 *c\n"
     ]
    }
   ],
   "source": [
    "!javac question3.java\n",
    "!java question3 38.9 102.02"
   ]
  },
  {
   "cell_type": "markdown",
   "metadata": {},
   "source": [
    "### Question 4 : Write a java program to implement adder circuit and booth algorithm using bitwise operator?"
   ]
  },
  {
   "cell_type": "code",
   "execution_count": null,
   "metadata": {},
   "outputs": [],
   "source": []
  },
  {
   "cell_type": "code",
   "execution_count": null,
   "metadata": {},
   "outputs": [],
   "source": []
  },
  {
   "cell_type": "markdown",
   "metadata": {},
   "source": [
    "### Question 5 : Write a java program to find following without using looping and decision making"
   ]
  },
  {
   "cell_type": "markdown",
   "metadata": {},
   "source": [
    "#### I. Sum of all digits of any 4 digit numbers"
   ]
  },
  {
   "cell_type": "code",
   "execution_count": 7,
   "metadata": {},
   "outputs": [
    {
     "name": "stdout",
     "output_type": "stream",
     "text": [
      "Writing question5a.java\n"
     ]
    }
   ],
   "source": [
    "%%writefile question5a.java\n",
    "\n",
    "public class question5a {\n",
    "    public static void main(String[] args) {\n",
    "        int num = Integer.parseInt(args[0]);\n",
    "\n",
    "        int d1 = num / 1000;\n",
    "        int d2 = (num / 100) % 10;\n",
    "        int d3 = (num / 10) % 10;\n",
    "        int d4 = num % 10;\n",
    "\n",
    "        int sum = d1 + d2 + d3 + d4;\n",
    "        System.out.println(d1 + \" + \" + d2 + \" + \" + d3 + \" + \" + d4 + \" = \" + sum);\n",
    "    }\n",
    "}"
   ]
  },
  {
   "cell_type": "code",
   "execution_count": 8,
   "metadata": {},
   "outputs": [
    {
     "name": "stdout",
     "output_type": "stream",
     "text": [
      "1 + 2 + 3 + 4 = 10\n"
     ]
    }
   ],
   "source": [
    "!javac question5a.java\n",
    "!java question5a 1234"
   ]
  },
  {
   "cell_type": "markdown",
   "metadata": {},
   "source": [
    "#### II. Find the face value and position value of any 4 digit number?"
   ]
  },
  {
   "cell_type": "code",
   "execution_count": 9,
   "metadata": {},
   "outputs": [
    {
     "name": "stdout",
     "output_type": "stream",
     "text": [
      "Writing question5b.java\n"
     ]
    }
   ],
   "source": [
    "%%writefile question5b.java\n",
    "\n",
    "public class question5b {\n",
    "    public static void main(String[] args) {\n",
    "        int num = Integer.parseInt(args[0]);\n",
    "\n",
    "        // Face Values\n",
    "        int d1 = num / 1000;        \n",
    "        int d2 = (num / 100) % 10;  \n",
    "        int d3 = (num / 10) % 10;   \n",
    "        int d4 = num % 10;          \n",
    "\n",
    "        // Postion Values\n",
    "        int p1 = d1 * 1000;\n",
    "        int p2 = d2 * 100;\n",
    "        int p3 = d3 * 10;\n",
    "        int p4 = d4;\n",
    "\n",
    "        System.out.println(\"Number: \" + num);\n",
    "        System.out.println(\"Face Values: \" + d1 + \", \" + d2 + \", \" + d3 + \", \" + d4);\n",
    "        System.out.println(\"Position Values: \" + p1 + \", \" + p2 + \", \" + p3 + \", \" + p4);\n",
    "    }\n",
    "}\n"
   ]
  },
  {
   "cell_type": "code",
   "execution_count": 10,
   "metadata": {},
   "outputs": [
    {
     "name": "stdout",
     "output_type": "stream",
     "text": [
      "Number: 1234\n",
      "Face Values: 1, 2, 3, 4\n",
      "Position Values: 1000, 200, 30, 4\n"
     ]
    }
   ],
   "source": [
    "!javac question5b.java\n",
    "!java question5b 1234"
   ]
  },
  {
   "cell_type": "markdown",
   "metadata": {},
   "source": [
    "#### III. Find the value available at position required by user it may be 10, 100 or 1000?"
   ]
  },
  {
   "cell_type": "code",
   "execution_count": 11,
   "metadata": {},
   "outputs": [
    {
     "name": "stdout",
     "output_type": "stream",
     "text": [
      "Writing question5c.java\n"
     ]
    }
   ],
   "source": [
    "%%writefile question5c.java\n",
    "\n",
    "public class question5c {\n",
    "    public static void main(String[] args) {\n",
    "\n",
    "        int num = Integer.parseInt(args[0]);\n",
    "\n",
    "        int d1 = num / 1000;        \n",
    "        int d2 = (num / 100) % 10;  \n",
    "        int d3 = (num / 10) % 10;   \n",
    "        int d4 = num % 10;          \n",
    "\n",
    "        int p1 = d1 * 1000;\n",
    "        int p2 = d2 * 100;\n",
    "        int p3 = d3 * 10;\n",
    "        int p4 = d4;\n",
    "\n",
    "        System.out.println(\"Position Values\");\n",
    "        System.out.println(\"1000 : \" + p1);\n",
    "        System.out.println(\"100 : \" + p2);\n",
    "        System.out.println(\"10 : \" + p3);\n",
    "        System.out.println(\"1 : \" + p4);\n",
    "    }\n",
    "}\n"
   ]
  },
  {
   "cell_type": "code",
   "execution_count": 12,
   "metadata": {},
   "outputs": [
    {
     "name": "stdout",
     "output_type": "stream",
     "text": [
      "Position Values\n",
      "1000 : 9000\n",
      "100 : 800\n",
      "10 : 70\n",
      "1 : 6\n"
     ]
    }
   ],
   "source": [
    "!javac question5c.java\n",
    "!java question5c 9876"
   ]
  },
  {
   "cell_type": "markdown",
   "metadata": {},
   "source": [
    "#### IV. Sum of product of consecutive digits of any 4 digit number? Supoose num=1234 then output= 4x3+3x2+2x1"
   ]
  },
  {
   "cell_type": "code",
   "execution_count": 13,
   "metadata": {},
   "outputs": [
    {
     "name": "stdout",
     "output_type": "stream",
     "text": [
      "Writing question5d.java\n"
     ]
    }
   ],
   "source": [
    "%%writefile question5d.java\n",
    "\n",
    "public class question5d {\n",
    "    public static void main(String[] args) {\n",
    "        int num = Integer.parseInt(args[0]);\n",
    "\n",
    "        int d1 = num / 1000;        \n",
    "        int d2 = (num / 100) % 10;  \n",
    "        int d3 = (num / 10) % 10;   \n",
    "        int d4 = num % 10;        \n",
    "\n",
    "        int ans = d1 * d2 + d2 * d3 + d3 * d4;\n",
    "        \n",
    "        System.out.println(\n",
    "            d1 + \" x \" + d2 + \" + \" + \n",
    "            d2 + \" x \" + d3 + \" + \" + \n",
    "            d3 + \" x \" + d4 + \" = \" +\n",
    "            ans\n",
    "        );\n",
    "    }\n",
    "}\n"
   ]
  },
  {
   "cell_type": "code",
   "execution_count": 14,
   "metadata": {},
   "outputs": [
    {
     "name": "stdout",
     "output_type": "stream",
     "text": [
      "1 x 2 + 2 x 3 + 3 x 4 = 20\n"
     ]
    }
   ],
   "source": [
    "!javac question5d.java\n",
    "!java question5d 1234"
   ]
  },
  {
   "cell_type": "markdown",
   "metadata": {},
   "source": [
    "#### V. Find sum of product of corresponding digits of two any 4 digit number Such as n=1234 m=7896 output=6x4+9x3+8x2+7x1"
   ]
  },
  {
   "cell_type": "code",
   "execution_count": 15,
   "metadata": {},
   "outputs": [
    {
     "name": "stdout",
     "output_type": "stream",
     "text": [
      "Writing question5e.java\n"
     ]
    }
   ],
   "source": [
    "%%writefile question5e.java\n",
    "\n",
    "public class question5e {\n",
    "    public static void main(String[] args) {\n",
    "\n",
    "        int num1 = Integer.parseInt(args[0]);\n",
    "        int num2 = Integer.parseInt(args[1]);\n",
    "\n",
    "        int d1 = num1 / 1000;        \n",
    "        int d2 = (num1 / 100) % 10;  \n",
    "        int d3 = (num1 / 10) % 10;   \n",
    "        int d4 = num1 % 10;     \n",
    "\n",
    "\n",
    "        int b1 = num2 / 1000;        \n",
    "        int b2 = (num2 / 100) % 10;  \n",
    "        int b3 = (num2 / 10) % 10;   \n",
    "        int b4 = num2 % 10;   \n",
    "\n",
    "        int ans = d1*b1 + d2*b2 + d3*b3 + d4*b4;\n",
    "\n",
    "        System.out.println(b4 + \" x \" + d4 + \" + \" + b3 + \" x \" + d3 + \" + \" + b2 + \" x \" + d2 + \" + \" + b1 + \" x \" + d1 + \" = \" + ans);\n",
    "\n",
    "    }\n",
    "}\n"
   ]
  },
  {
   "cell_type": "code",
   "execution_count": 16,
   "metadata": {},
   "outputs": [
    {
     "name": "stdout",
     "output_type": "stream",
     "text": [
      "6 x 4 + 9 x 3 + 8 x 2 + 7 x 1 = 74\n"
     ]
    }
   ],
   "source": [
    "!javac question5e.java\n",
    "!java question5e 1234 7896"
   ]
  },
  {
   "cell_type": "markdown",
   "metadata": {},
   "source": [
    "#### VI. Find bitwise and , or , and xor of 2nd and 4th digit of any 4 digit number?"
   ]
  },
  {
   "cell_type": "code",
   "execution_count": 17,
   "metadata": {},
   "outputs": [
    {
     "name": "stdout",
     "output_type": "stream",
     "text": [
      "Writing question5f.java\n"
     ]
    }
   ],
   "source": [
    "%%writefile question5f.java\n",
    "\n",
    "public class question5f {\n",
    "    public static void main(String[] args) {\n",
    "        int num = Integer.parseInt(args[0]);\n",
    "\n",
    "        int d2 = (num / 100) % 10;\n",
    "        int d4 = num % 10;\n",
    "\n",
    "        int andResult = d2 & d4;\n",
    "        int orResult = d2 | d4;\n",
    "        int xorResult = d2 ^ d4;\n",
    "\n",
    "        System.out.println(\"2nd digit: \" + d2 + \", 4th digit: \" + d4);\n",
    "        System.out.println(\"Bitwise AND: \" + andResult);\n",
    "        System.out.println(\"Bitwise OR: \" + orResult);\n",
    "        System.out.println(\"Bitwise XOR: \" + xorResult);\n",
    "    }\n",
    "}\n"
   ]
  },
  {
   "cell_type": "code",
   "execution_count": 18,
   "metadata": {},
   "outputs": [
    {
     "name": "stdout",
     "output_type": "stream",
     "text": [
      "2nd digit: 3, 4th digit: 5\n",
      "Bitwise AND: 1\n",
      "Bitwise OR: 7\n",
      "Bitwise XOR: 6\n"
     ]
    }
   ],
   "source": [
    "!javac question5f.java\n",
    "!java question5f 2345"
   ]
  },
  {
   "cell_type": "markdown",
   "metadata": {},
   "source": [
    "#### VII. Find left shit, right shift and zero fill of summation of all digits of any 4 digit number and it will be shifted by 3rd digit of any 4 digit number?"
   ]
  },
  {
   "cell_type": "code",
   "execution_count": 19,
   "metadata": {},
   "outputs": [
    {
     "name": "stdout",
     "output_type": "stream",
     "text": [
      "Writing question5g.java\n"
     ]
    }
   ],
   "source": [
    "%%writefile question5g.java\n",
    "\n",
    "public class question5g {\n",
    "    public static void main(String[] args) {\n",
    "\n",
    "        int num1 = Integer.parseInt(args[0]);\n",
    "\n",
    "        int d1 = num1 / 1000;        \n",
    "        int d2 = (num1 / 100) % 10;  \n",
    "        int d3 = (num1 / 10) % 10;   \n",
    "        int d4 = num1 % 10;     \n",
    "\n",
    "        int sum = d1 + d2 + d3 + d4; \n",
    "        int shiftBy = d3; \n",
    "\n",
    "        int leftShift = sum << shiftBy;\n",
    "        int rightShift = sum >> shiftBy;\n",
    "        int zeroFillShift = sum >>> shiftBy;\n",
    "\n",
    "        System.out.println(\"Sum of digits: \" + sum);\n",
    "        System.out.println(\"Left shift: \" + leftShift);\n",
    "        System.out.println(\"Right shift: \" + rightShift);\n",
    "        System.out.println(\"Zero-fill shift: \" + zeroFillShift);\n",
    "    }\n",
    "}\n"
   ]
  },
  {
   "cell_type": "code",
   "execution_count": 20,
   "metadata": {},
   "outputs": [
    {
     "name": "stdout",
     "output_type": "stream",
     "text": [
      "Sum of digits: 19\n",
      "Left shift: 608\n",
      "Right shift: 0\n",
      "Zero-fill shift: 0\n"
     ]
    }
   ],
   "source": [
    "!javac question5g.java\n",
    "!java question5g 3457"
   ]
  },
  {
   "cell_type": "markdown",
   "metadata": {},
   "source": [
    "### Question 6 : Write a java program to find following using conditional operator and without using looping and decision making ?"
   ]
  },
  {
   "cell_type": "markdown",
   "metadata": {},
   "source": [
    "#### a) Sum of all even digits of any 4 digit number"
   ]
  },
  {
   "cell_type": "code",
   "execution_count": 21,
   "metadata": {},
   "outputs": [
    {
     "name": "stdout",
     "output_type": "stream",
     "text": [
      "Writing question6a.java\n"
     ]
    }
   ],
   "source": [
    "%%writefile question6a.java\n",
    "\n",
    "public class question6a {\n",
    "    public static void main(String[] args) {\n",
    "        int num1 = Integer.parseInt(args[0]);\n",
    "\n",
    "        int d1 = num1 / 1000;\n",
    "        int d2 = (num1 / 100) % 10;\n",
    "        int d3 = (num1 / 10) % 10;\n",
    "        int d4 = num1 % 10;\n",
    "\n",
    "        int sum = (d1 % 2 == 0 ? d1 : 0) +\n",
    "                  (d2 % 2 == 0 ? d2 : 0) +\n",
    "                  (d3 % 2 == 0 ? d3 : 0) +\n",
    "                  (d4 % 2 == 0 ? d4 : 0);\n",
    "\n",
    "        System.out.println(\"Sum of even digits: \" + sum);\n",
    "    }\n",
    "}\n"
   ]
  },
  {
   "cell_type": "code",
   "execution_count": 22,
   "metadata": {},
   "outputs": [
    {
     "name": "stdout",
     "output_type": "stream",
     "text": [
      "Sum of even digits: 6\n"
     ]
    }
   ],
   "source": [
    "!javac question6a.java\n",
    "!java question6a 1234"
   ]
  },
  {
   "cell_type": "markdown",
   "metadata": {},
   "source": [
    "#### b) Sum of all odd digits of any 4 digit number"
   ]
  },
  {
   "cell_type": "code",
   "execution_count": 23,
   "metadata": {},
   "outputs": [
    {
     "name": "stdout",
     "output_type": "stream",
     "text": [
      "Writing question6b.java\n"
     ]
    }
   ],
   "source": [
    "%%writefile question6b.java\n",
    "\n",
    "public class question6b {\n",
    "    public static void main(String[] args) {\n",
    "        int num1 = Integer.parseInt(args[0]);\n",
    "\n",
    "        int d1 = num1 / 1000;\n",
    "        int d2 = (num1 / 100) % 10;\n",
    "        int d3 = (num1 / 10) % 10;\n",
    "        int d4 = num1 % 10;\n",
    "\n",
    "        int sum = (d1 % 2 != 0 ? d1 : 0) +\n",
    "                  (d2 % 2 != 0 ? d2 : 0) +\n",
    "                  (d3 % 2 != 0 ? d3 : 0) +\n",
    "                  (d4 % 2 != 0 ? d4 : 0);\n",
    "\n",
    "        System.out.println(\"Sum of odd digits: \" + sum);\n",
    "    }\n",
    "}"
   ]
  },
  {
   "cell_type": "code",
   "execution_count": 24,
   "metadata": {},
   "outputs": [
    {
     "name": "stdout",
     "output_type": "stream",
     "text": [
      "Sum of odd digits: 4\n"
     ]
    }
   ],
   "source": [
    "!javac question6b.java\n",
    "!java question6b 1234"
   ]
  },
  {
   "cell_type": "markdown",
   "metadata": {},
   "source": [
    "#### c) Difference between average of all even digits except divisible by 4 and avearge of all odd digits except divisble by 3 of any 4 digit number"
   ]
  },
  {
   "cell_type": "code",
   "execution_count": 25,
   "metadata": {},
   "outputs": [
    {
     "name": "stdout",
     "output_type": "stream",
     "text": [
      "Writing question6c.java\n"
     ]
    }
   ],
   "source": [
    "%%writefile question6c.java\n",
    "\n",
    "public class question6c {\n",
    "    public static void main(String[] args) {\n",
    "        int num = Integer.parseInt(args[0]);\n",
    "\n",
    "        int d1 = num / 1000;\n",
    "        int d2 = (num / 100) % 10;\n",
    "        int d3 = (num / 10) % 10;\n",
    "        int d4 = num % 10;\n",
    "\n",
    "        int evenSum = (d1 % 2 == 0 && d1 % 4 != 0 ? d1 : 0) +\n",
    "                      (d2 % 2 == 0 && d2 % 4 != 0 ? d2 : 0) +\n",
    "                      (d3 % 2 == 0 && d3 % 4 != 0 ? d3 : 0) +\n",
    "                      (d4 % 2 == 0 && d4 % 4 != 0 ? d4 : 0);\n",
    "                      \n",
    "        int evenCount = (d1 % 2 == 0 && d1 % 4 != 0 ? 1 : 0) +\n",
    "                        (d2 % 2 == 0 && d2 % 4 != 0 ? 1 : 0) +\n",
    "                        (d3 % 2 == 0 && d3 % 4 != 0 ? 1 : 0) +\n",
    "                        (d4 % 2 == 0 && d4 % 4 != 0 ? 1 : 0);\n",
    "\n",
    "        int oddSum = (d1 % 2 != 0 && d1 % 3 != 0 ? d1 : 0) +\n",
    "                     (d2 % 2 != 0 && d2 % 3 != 0 ? d2 : 0) +\n",
    "                     (d3 % 2 != 0 && d3 % 3 != 0 ? d3 : 0) +\n",
    "                     (d4 % 2 != 0 && d4 % 3 != 0 ? d4 : 0);\n",
    "\n",
    "        int oddCount = (d1 % 2 != 0 && d1 % 3 != 0 ? 1 : 0) +\n",
    "                       (d2 % 2 != 0 && d2 % 3 != 0 ? 1 : 0) +\n",
    "                       (d3 % 2 != 0 && d3 % 3 != 0 ? 1 : 0) +\n",
    "                       (d4 % 2 != 0 && d4 % 3 != 0 ? 1 : 0);\n",
    "\n",
    "        double eAvg = evenCount > 0 ? (double) evenSum / evenCount : 0;\n",
    "        double oAvg = oddCount > 0 ? (double) oddSum / oddCount : 0;\n",
    "\n",
    "        double difference = eAvg - oAvg;\n",
    "\n",
    "        System.out.println(\"Difference between averages: \" + difference);\n",
    "    }\n",
    "}"
   ]
  },
  {
   "cell_type": "code",
   "execution_count": 26,
   "metadata": {},
   "outputs": [
    {
     "name": "stdout",
     "output_type": "stream",
     "text": [
      "Difference between averages: 5.0\n"
     ]
    }
   ],
   "source": [
    "!javac question6c.java\n",
    "!java question6c 6319"
   ]
  },
  {
   "cell_type": "markdown",
   "metadata": {},
   "source": [
    "#### d) Sum of product of consecutive even digits of any 4 digit number? Supoose num=1624 then output= 4x2+2x6"
   ]
  },
  {
   "cell_type": "code",
   "execution_count": 27,
   "metadata": {},
   "outputs": [
    {
     "name": "stdout",
     "output_type": "stream",
     "text": [
      "Writing question6d.java\n"
     ]
    }
   ],
   "source": [
    "%%writefile question6d.java\n",
    "\n",
    "public class question6d {\n",
    "    public static void main(String[] args) {\n",
    "        int num = Integer.parseInt(args[0]);\n",
    "        \n",
    "        int d1 = num / 1000;        \n",
    "        int d2 = (num / 100) % 10; \n",
    "        int d3 = (num / 10) % 10; \n",
    "        int d4 = num % 10;          \n",
    "\n",
    "        int p1 = (d1 % 2 == 0 && d2 % 2 == 0) ? d1 * d2 : 0; \n",
    "        int p2 = (d2 % 2 == 0 && d3 % 2 == 0) ? d2 * d3 : 0; \n",
    "        int p3 = (d3 % 2 == 0 && d4 % 2 == 0) ? d3 * d4 : 0; \n",
    "\n",
    "        int sum = p1 + p2 + p3;\n",
    "\n",
    "        System.out.println(\"Sum : \" + sum);\n",
    "    }\n",
    "}"
   ]
  },
  {
   "cell_type": "code",
   "execution_count": 28,
   "metadata": {},
   "outputs": [
    {
     "name": "stdout",
     "output_type": "stream",
     "text": [
      "Sum : 20\n"
     ]
    }
   ],
   "source": [
    "!javac question6d.java\n",
    "!java question6d 1624"
   ]
  },
  {
   "cell_type": "markdown",
   "metadata": {},
   "source": [
    "#### e) Sum of product of consecutive odd digits of any 4 digit number? Supoose num=1356 then output= 5*3+ 3*1"
   ]
  },
  {
   "cell_type": "code",
   "execution_count": 29,
   "metadata": {},
   "outputs": [
    {
     "name": "stdout",
     "output_type": "stream",
     "text": [
      "Writing question6e.java\n"
     ]
    }
   ],
   "source": [
    "%%writefile question6e.java\n",
    "\n",
    "public class question6e {\n",
    "    public static void main(String[] args) {\n",
    "        int num = Integer.parseInt(args[0]);\n",
    "        \n",
    "        int d1 = num / 1000;        \n",
    "        int d2 = (num / 100) % 10; \n",
    "        int d3 = (num / 10) % 10; \n",
    "        int d4 = num % 10;          \n",
    "\n",
    "        int p1 = (d1 % 2 != 0 && d2 % 2 != 0) ? d1 * d2 : 0; \n",
    "        int p2 = (d2 % 2 != 0 && d3 % 2 != 0) ? d2 * d3 : 0; \n",
    "        int p3 = (d3 % 2 != 0 && d4 % 2 != 0) ? d3 * d4 : 0; \n",
    "\n",
    "        int sum = p1 + p2 + p3;\n",
    "\n",
    "        System.out.println(\"Sum : \" + sum);\n",
    "    }\n",
    "}"
   ]
  },
  {
   "cell_type": "code",
   "execution_count": 30,
   "metadata": {},
   "outputs": [
    {
     "name": "stdout",
     "output_type": "stream",
     "text": [
      "Sum : 18\n"
     ]
    }
   ],
   "source": [
    "!javac question6e.java\n",
    "!java question6e 1356"
   ]
  },
  {
   "cell_type": "markdown",
   "metadata": {},
   "source": [
    "#### f) Difference between Sum of product of consecutive even digits except 2 and 6 and Sum of product of consecutive odd digits except 3 and 7 of any 4 digit number"
   ]
  },
  {
   "cell_type": "code",
   "execution_count": 31,
   "metadata": {},
   "outputs": [
    {
     "name": "stdout",
     "output_type": "stream",
     "text": [
      "Writing question6f.java\n"
     ]
    }
   ],
   "source": [
    "%%writefile question6f.java\n",
    "\n",
    "public class question6f {\n",
    "    public static void main(String[] args) {\n",
    "        int num = Integer.parseInt(args[0]);\n",
    "\n",
    "        int d1 = num / 1000;\n",
    "        int d2 = (num / 100) % 10;\n",
    "        int d3 = (num / 10) % 10;\n",
    "        int d4 = num % 10;\n",
    "\n",
    "        int evenSum = 0, oddSum = 0;\n",
    "\n",
    "        evenSum += ((d1 % 2 == 0 && d2 % 2 == 0) && (d1 != 2 && d1 != 6 && d2 != 2 && d2 != 6)) ? (d1 * d2) : 0;\n",
    "        evenSum += ((d2 % 2 == 0 && d3 % 2 == 0) && (d2 != 2 && d2 != 6 && d3 != 2 && d3 != 6)) ? (d2 * d3) : 0;\n",
    "        evenSum += ((d3 % 2 == 0 && d4 % 2 == 0) && (d3 != 2 && d3 != 6 && d4 != 2 && d4 != 6)) ? (d3 * d4) : 0;\n",
    "\n",
    "        oddSum += ((d1 % 2 != 0 && d2 % 2 != 0) && (d1 != 3 && d1 != 7 && d2 != 3 && d2 != 7)) ? (d1 * d2) : 0;\n",
    "        oddSum += ((d2 % 2 != 0 && d3 % 2 != 0) && (d2 != 3 && d2 != 7 && d3 != 3 && d3 != 7)) ? (d2 * d3) : 0;\n",
    "        oddSum += ((d3 % 2 != 0 && d4 % 2 != 0) && (d3 != 3 && d3 != 7 && d4 != 3 && d4 != 7)) ? (d3 * d4) : 0;\n",
    "\n",
    "        int result = evenSum - oddSum;\n",
    "        System.out.println(\"Difference: \" + result);\n",
    "    }\n",
    "}"
   ]
  },
  {
   "cell_type": "code",
   "execution_count": 32,
   "metadata": {},
   "outputs": [
    {
     "name": "stdout",
     "output_type": "stream",
     "text": [
      "Difference: -17\n"
     ]
    }
   ],
   "source": [
    "!javac question6f.java\n",
    "!java question6f 8899"
   ]
  },
  {
   "cell_type": "markdown",
   "metadata": {},
   "source": [
    "#### g) Write a java program to find sum of product of corresponding even digits of first any digit number and corresponding odd digit of any 4 digit number Such as n=1234 m=4567 output=4x7+2x5"
   ]
  },
  {
   "cell_type": "code",
   "execution_count": 33,
   "metadata": {},
   "outputs": [
    {
     "name": "stdout",
     "output_type": "stream",
     "text": [
      "Writing question6g.java\n"
     ]
    }
   ],
   "source": [
    "%%writefile question6g.java\n",
    "\n",
    "public class question6g {\n",
    "    public static void main(String[] args) {\n",
    "        int n = 1234;\n",
    "        int m = 4567;\n",
    "\n",
    "        int d1 = n / 1000;\n",
    "        int d2 = (n / 100) % 10;\n",
    "        int d3 = (n / 10) % 10;\n",
    "        int d4 = n % 10;\n",
    "        \n",
    "        int m1 = m / 1000;\n",
    "        int m2 = (m / 100) % 10;\n",
    "        int m3 = (m / 10) % 10;\n",
    "        int m4 = m % 10;\n",
    "        \n",
    "\n",
    "        int sum = (d4 % 2 == 0 && m4 % 2 != 0 ? d4 * m4 : 0) +\n",
    "                  (d3 % 2 == 0 && m3 % 2 != 0 ? d3 * m3 : 0) +\n",
    "                  (d2 % 2 == 0 && m2 % 2 != 0 ? d2 * m2 : 0) +\n",
    "                  (d1 % 2 == 0 && m1 % 2 != 0 ? d1 * m1 : 0);\n",
    "\n",
    "        System.out.println(\"Sum: \" + sum);\n",
    "    }\n",
    "}"
   ]
  },
  {
   "cell_type": "code",
   "execution_count": 34,
   "metadata": {},
   "outputs": [
    {
     "name": "stdout",
     "output_type": "stream",
     "text": [
      "Sum: 38\n"
     ]
    }
   ],
   "source": [
    "!javac question6g.java\n",
    "!java question6g 8899"
   ]
  }
 ],
 "metadata": {
  "kernelspec": {
   "display_name": "Python 3",
   "language": "python",
   "name": "python3"
  },
  "language_info": {
   "codemirror_mode": {
    "name": "ipython",
    "version": 3
   },
   "file_extension": ".py",
   "mimetype": "text/x-python",
   "name": "python",
   "nbconvert_exporter": "python",
   "pygments_lexer": "ipython3",
   "version": "3.12.4"
  }
 },
 "nbformat": 4,
 "nbformat_minor": 2
}
